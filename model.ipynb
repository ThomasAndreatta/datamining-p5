{
 "cells": [
  {
   "cell_type": "markdown",
   "id": "71d052b2-b6ae-4f02-be16-d25a6f295602",
   "metadata": {},
   "source": [
    "# Model training"
   ]
  },
  {
   "cell_type": "code",
   "execution_count": 50,
   "id": "9e84fde0-3d28-4f4c-a773-46221c65d36e",
   "metadata": {},
   "outputs": [],
   "source": [
    "from sklearn import tree\n",
    "from sklearn.metrics import mean_squared_error, accuracy_score, mean_absolute_error\n",
    "from sklearn.model_selection import train_test_split, cross_val_score, GridSearchCV\n",
    "from sklearn.ensemble import RandomForestClassifier, RandomForestRegressor\n",
    "from sklearn.tree import DecisionTreeClassifier, DecisionTreeRegressor\n",
    "from sklearn.svm import SVC, SVR\n",
    "\n",
    "from tabulate import tabulate\n",
    "import pandas as pd\n",
    "import math"
   ]
  },
  {
   "cell_type": "code",
   "execution_count": 60,
   "id": "3739b10a-dd79-467f-aaf7-7574cff5dd01",
   "metadata": {},
   "outputs": [],
   "source": [
    "#debugging stuff\n",
    "def evaluate_stress_predictions(predicted_values,true_values):\n",
    "    # Initialize counters\n",
    "    correct_predictions = 0\n",
    "    overestimated = 0\n",
    "    underestimated = 0\n",
    "\n",
    "    # Compare true and predicted values\n",
    "    for true, pred in zip(true_values, predicted_values):\n",
    "        if true == pred:\n",
    "            correct_predictions += 1\n",
    "        elif true == 'low' and pred == 'medium':\n",
    "            underestimated += 1\n",
    "        elif true == 'medium' and pred == 'low':\n",
    "            overestimated += 1\n",
    "        elif true == 'medium' and pred == 'high':\n",
    "            underestimated += 1\n",
    "        elif true == 'high' and pred == 'medium':\n",
    "            overestimated += 1\n",
    "        elif true == 'high' and pred == 'low':\n",
    "            overestimated += 1\n",
    "        elif true == 'low' and pred == 'high':\n",
    "            underestimated += 1\n",
    "\n",
    "    # Return counts\n",
    "    return correct_predictions, overestimated, underestimated\n",
    "    \n",
    "\n",
    "def evaluate_age_predictions(predicted_values, true_values, error):\n",
    "    # Initialize counters\n",
    "    correct_predictions = 0\n",
    "    overestimated = 0\n",
    "    underestimated = 0\n",
    "    \n",
    "    # Compare true and predicted values\n",
    "    for true, pred in zip(true_values, predicted_values):\n",
    "        true = round(true)\n",
    "        pred = round(pred)\n",
    "        if abs(pred - true) <= error:  # Check if the absolute difference is within the error\n",
    "            correct_predictions += 1\n",
    "        elif pred > true:\n",
    "            overestimated += 1\n",
    "        else:\n",
    "            underestimated += 1\n",
    "    \n",
    "    return correct_predictions, overestimated, underestimated\n",
    "\n",
    "\n",
    "def load_dataset():\n",
    "    train_data = pd.read_csv('./dataset/train_dataset.csv')\n",
    "    test_data = pd.read_csv('./dataset/test_dataset.csv')\n",
    "    # Preprocess training and testing dataset\n",
    "    train_data['bedtime'] = pd.to_datetime(train_data['bedtime']).dt.hour\n",
    "    train_data['activity_intensity'] = train_data['activity_intensity'].map({'low': 0, 'moderate': 1, 'high': 2})\n",
    "\n",
    "    test_data['bedtime'] = pd.to_datetime(test_data['bedtime']).dt.hour\n",
    "    test_data['activity_intensity'] = test_data['activity_intensity'].map({'low': 0, 'moderate': 1, 'high': 2})\n",
    "    return train_data, test_data\n",
    "\n",
    "\n",
    "train_data, test_data = load_dataset()\n",
    "\n",
    "def get_vars(c=\"stress\"):\n",
    "    #train_data, test_data = load_dataset()\n",
    "    \n",
    "    if(c == \"stress\"):\n",
    "        train_features = train_data[['bedtime', 'activity_intensity', 'byear']]\n",
    "        test_features = test_data[['bedtime', 'activity_intensity', 'byear']]\n",
    "        \n",
    "        train_target = train_data['stress_level']\n",
    "        test_target = test_data['stress_level']\n",
    "      \n",
    "        \n",
    "    else:\n",
    "        train_features = train_data[['stress', 'activity_intensity', 'byear']]\n",
    "        test_features = test_data[['stress', 'activity_intensity', 'byear']]\n",
    "        \n",
    "        train_target = train_data['mental_age']\n",
    "        test_target = test_data['mental_age']\n",
    "        \n",
    "        \n",
    "    return train_features, train_target, test_features, test_target\n",
    "\n",
    "def print_stats(pred,test,banner,c=\"stress\"):\n",
    "    '''\n",
    "    try:\n",
    "        head=['Accuracy',accuracy_score(pred,test)]\n",
    "    except:\n",
    "        mse = round(mean_squared_error(test, pred),2)\n",
    "        head= ['Mean Squared Error', str(mse) + \" (\"+str(math.sqrt(mse))+\")\"]\n",
    "    '''\n",
    "    if(c== \"stress\"):\n",
    "        head=['Test accuracy',accuracy_score(pred,test)]\n",
    "    else:\n",
    "        mse = round(mean_squared_error(test, pred),2)\n",
    "        head= ['Mean Squared Error', str(mse) + \" (\"+str(math.sqrt(mse))+\")\"]\n",
    "    \n",
    "    if(c==\"stress\"):\n",
    "        correct, over, under = evaluate_stress_predictions(pred, test)\n",
    "    else:\n",
    "        #correct, over, under = evaluate_age_predictions(pred, test,max(1,int(math.sqrt(mse))))\n",
    "        correct, over, under = evaluate_age_predictions(pred, test,int(math.sqrt(mse)))\n",
    "        \n",
    "    data = [head,\n",
    "        [\"Correct Predictions:\", str(correct)+\"/\"+str(len(test))],\n",
    "        [\"Overestimated:\",  str(over)+\"/\"+str(len(test))],\n",
    "        [\"Underestimated:\",  str(under)+\"/\"+str(len(test))]]\n",
    "    print(\"\\n\\n\"+tabulate(data, headers=[banner, \"\"]))"
   ]
  },
  {
   "cell_type": "markdown",
   "id": "a3715739-1bcf-4e4e-992d-d067c3933edc",
   "metadata": {},
   "source": [
    "# Decision tree"
   ]
  },
  {
   "cell_type": "markdown",
   "id": "afb809c4-2738-4ae1-85a5-574f69c1e782",
   "metadata": {},
   "source": [
    "### Stress"
   ]
  },
  {
   "cell_type": "code",
   "execution_count": 82,
   "id": "5f93df4c-f100-443c-a750-32300ff8851a",
   "metadata": {},
   "outputs": [
    {
     "name": "stdout",
     "output_type": "stream",
     "text": [
      "5-fold cross validation mean accuracy 0.33103448275862074\n",
      "\n",
      "\n",
      "Decision tree stress (no params)\n",
      "----------------------------------  -------------------\n",
      "Test accuracy                       0.30612244897959184\n",
      "Correct Predictions:                30/98\n",
      "Overestimated:                      16/98\n",
      "Underestimated:                     52/98\n",
      "5-fold cross validation mean accuracy 0.35172413793103446\n",
      "\n",
      "\n",
      "Decision tree stress (best_params)\n",
      "------------------------------------  -------------------\n",
      "Test accuracy                         0.35714285714285715\n",
      "Correct Predictions:                  35/98\n",
      "Overestimated:                        41/98\n",
      "Underestimated:                       22/98\n",
      "{'max_depth': 2, 'min_samples_leaf': 1, 'min_samples_split': 2}\n"
     ]
    }
   ],
   "source": [
    "train_features, train_target, test_features, test_target = get_vars()\n",
    "\n",
    "clf = DecisionTreeClassifier(class_weight=\"balanced\",random_state=42)\n",
    "clf.fit(train_features, train_target) #Train the classifier\n",
    "no_param_cv = cross_val_score(clf, train_features, train_target, cv=5)\n",
    "pred_target = clf.predict(test_features) #Make predictions\n",
    "print(\"5-fold cross validation mean accuracy\",no_param_cv.mean())\n",
    "print_stats(pred_target,test_target ,\"Decision tree stress (no params)\") #Evaluates\n",
    "\n",
    "\n",
    "# Hyper parameters\n",
    "param_grid = {\"max_depth\":[None,1,2,3,4,5,6], 'min_samples_leaf': [1,2,4,7], 'min_samples_split': [2,3,4]}\n",
    "\n",
    "prog_tree_sh = GridSearchCV(clf, param_grid=param_grid, cv=5).fit(train_features, train_target)\n",
    "pred_target = prog_tree_sh.best_estimator_.predict(test_features) #Make predictions\n",
    "\n",
    "print(\"5-fold cross validation mean accuracy\",prog_tree_sh.best_score_)\n",
    "print_stats(pred_target,test_target ,\"Decision tree stress (best_params)\") #Evaluates\n",
    "print(prog_tree_sh.best_params_)\n",
    "#tree.plot_tree(prog_tree_sh.best_estimator_)"
   ]
  },
  {
   "cell_type": "code",
   "execution_count": 83,
   "id": "16e810f8",
   "metadata": {},
   "outputs": [
    {
     "data": {
      "text/plain": [
       "<sklearn.metrics._plot.confusion_matrix.ConfusionMatrixDisplay at 0x7ff60d531a30>"
      ]
     },
     "execution_count": 83,
     "metadata": {},
     "output_type": "execute_result"
    },
    {
     "data": {
      "image/png": "[encoded data removed]",
      "text/plain": [
       "<Figure size 640x480 with 2 Axes>"
      ]
     },
     "metadata": {},
     "output_type": "display_data"
    }
   ],
   "source": [
    "from sklearn.metrics import ConfusionMatrixDisplay, confusion_matrix\n",
    "cm = confusion_matrix(test_target, pred_target)\n",
    "ConfusionMatrixDisplay(cm / cm.sum(axis=1)[:,None]).plot()"
   ]
  },
  {
   "cell_type": "markdown",
   "id": "d300a3ca-e337-422e-9fda-75b4f7105efb",
   "metadata": {},
   "source": [
    "### Mental_age"
   ]
  },
  {
   "cell_type": "code",
   "execution_count": 84,
   "id": "931347e5-a7f8-4f61-a981-3d88377625c9",
   "metadata": {},
   "outputs": [
    {
     "name": "stdout",
     "output_type": "stream",
     "text": [
      "\n",
      "\n",
      "Decision tree mental age (no_params)\n",
      "--------------------------------------  -------------------------\n",
      "Mean Squared Error                      2.41 (1.5524174696260025)\n",
      "Correct Predictions:                    76/98\n",
      "Overestimated:                          11/98\n",
      "Underestimated:                         11/98\n",
      "\n",
      "\n",
      "Decision tree mental age (best_params)\n",
      "----------------------------------------  -------------------------\n",
      "Mean Squared Error                        2.41 (1.5524174696260025)\n",
      "Correct Predictions:                      76/98\n",
      "Overestimated:                            11/98\n",
      "Underestimated:                           11/98\n",
      "{'max_depth': None, 'min_samples_leaf': 1, 'min_samples_split': 2}\n"
     ]
    }
   ],
   "source": [
    "train_features, train_target, test_features, test_target = get_vars(c=\"age\")\n",
    "\n",
    "clf = DecisionTreeRegressor(random_state=42)\n",
    "clf.fit(train_features, train_target) #Train the classifier\n",
    "no_param_cv = cross_val_score(clf, train_features, train_target, cv=5)\n",
    "pred_target = clf.predict(test_features) #Make predictions\n",
    "\n",
    "print_stats(test_target,pred_target,\"Decision tree mental age (no_params)\",\"age\") #Evaluates\n",
    "\n",
    "# Hyper parameters\n",
    "param_grid = {\"max_depth\":[None,1,2,3,4,5,6], 'min_samples_leaf': [1,2,4,7], 'min_samples_split': [2,3,4]}\n",
    "\n",
    "prog_tree_sh = GridSearchCV(clf, param_grid=param_grid, cv=5).fit(train_features, train_target)\n",
    "pred_target = prog_tree_sh.best_estimator_.predict(test_features) #Make predictions\n",
    "\n",
    "print_stats(pred_target,test_target ,\"Decision tree mental age (best_params)\",\"age\") #Evaluates\n",
    "print(prog_tree_sh.best_params_)"
   ]
  },
  {
   "cell_type": "code",
   "execution_count": 16,
   "id": "f34f2105-9802-4014-8e75-ca8b051bcd63",
   "metadata": {},
   "outputs": [],
   "source": [
    "#clf.get_params()#hyperparam"
   ]
  },
  {
   "cell_type": "markdown",
   "id": "13752143-66be-44a2-afe5-684852979206",
   "metadata": {},
   "source": [
    "# Random forest"
   ]
  },
  {
   "cell_type": "markdown",
   "id": "d9af032c-7e9d-4393-ac7a-b2356b4604f3",
   "metadata": {},
   "source": [
    "### Stress"
   ]
  },
  {
   "cell_type": "code",
   "execution_count": 31,
   "id": "0a9e0014",
   "metadata": {},
   "outputs": [
    {
     "data": {
      "text/plain": [
       "{'bootstrap': True,\n",
       " 'ccp_alpha': 0.0,\n",
       " 'class_weight': None,\n",
       " 'criterion': 'gini',\n",
       " 'max_depth': None,\n",
       " 'max_features': 'sqrt',\n",
       " 'max_leaf_nodes': None,\n",
       " 'max_samples': None,\n",
       " 'min_impurity_decrease': 0.0,\n",
       " 'min_samples_leaf': 1,\n",
       " 'min_samples_split': 2,\n",
       " 'min_weight_fraction_leaf': 0.0,\n",
       " 'monotonic_cst': None,\n",
       " 'n_estimators': 100,\n",
       " 'n_jobs': None,\n",
       " 'oob_score': False,\n",
       " 'random_state': None,\n",
       " 'verbose': 0,\n",
       " 'warm_start': False}"
      ]
     },
     "execution_count": 31,
     "metadata": {},
     "output_type": "execute_result"
    }
   ],
   "source": [
    "RandomForestClassifier().get_params()"
   ]
  },
  {
   "cell_type": "code",
   "execution_count": 88,
   "id": "ef08cef6-fa7c-4a17-a623-451f9d4b48e3",
   "metadata": {},
   "outputs": [
    {
     "name": "stdout",
     "output_type": "stream",
     "text": [
      "5-fold cross validation mean accuracy 0.3517241379310345\n",
      "\n",
      "\n",
      "Random forest stress (no params)\n",
      "----------------------------------  -------------------\n",
      "Test accuracy                       0.35714285714285715\n",
      "Correct Predictions:                35/98\n",
      "Overestimated:                      40/98\n",
      "Underestimated:                     23/98\n",
      "5-fold cross validation mean accuracy 0.3586206896551724\n",
      "\n",
      "\n",
      "Random forest stress (best params)\n",
      "------------------------------------  ------------------\n",
      "Test accuracy                         0.2755102040816326\n",
      "Correct Predictions:                  27/98\n",
      "Overestimated:                        33/98\n",
      "Underestimated:                       38/98\n",
      "{'max_depth': 1, 'min_samples_leaf': 1, 'min_samples_split': 2}\n"
     ]
    }
   ],
   "source": [
    "train_features, train_target, test_features, test_target = get_vars()\n",
    "\n",
    "rf_clf = RandomForestClassifier(class_weight=\"balanced\",random_state=42)\n",
    "rf_clf.fit(train_features, train_target) #Train the classifier\n",
    "no_param_cv = cross_val_score(rf_clf, train_features, train_target, cv=5)\n",
    "pred_target = rf_clf.predict(test_features) #Make predictions\n",
    "print(\"5-fold cross validation mean accuracy\",no_param_cv.mean())\n",
    "print_stats(test_target, pred_target,\"Random forest stress (no params)\") #Evaluates\n",
    "\n",
    "# Hyper parameters\n",
    "param_grid = {\"max_depth\":[None,1,2,3,4,5,6], 'min_samples_leaf': [1,2,4,7], 'min_samples_split': [2,3,4]}\n",
    "\n",
    "prog_tree_sh = GridSearchCV(rf_clf, param_grid=param_grid, cv=5).fit(train_features, train_target)\n",
    "pred_target = prog_tree_sh.best_estimator_.predict(test_features) #Make predictions\n",
    "\n",
    "print(\"5-fold cross validation mean accuracy\",prog_tree_sh.best_score_)\n",
    "print_stats(pred_target,test_target ,\"Random forest stress (best params)\") #Evaluates\n",
    "print(prog_tree_sh.best_params_)"
   ]
  },
  {
   "cell_type": "code",
   "execution_count": 89,
   "id": "fb6872de",
   "metadata": {},
   "outputs": [
    {
     "data": {
      "text/plain": [
       "<sklearn.metrics._plot.confusion_matrix.ConfusionMatrixDisplay at 0x7ff60e0e79b0>"
      ]
     },
     "execution_count": 89,
     "metadata": {},
     "output_type": "execute_result"
    },
    {
     "data": {
      "image/png": "[encoded data removed]",
      "text/plain": [
       "<Figure size 640x480 with 2 Axes>"
      ]
     },
     "metadata": {},
     "output_type": "display_data"
    }
   ],
   "source": [
    "from sklearn.metrics import ConfusionMatrixDisplay, confusion_matrix\n",
    "cm = confusion_matrix(test_target, pred_target)\n",
    "ConfusionMatrixDisplay(cm / cm.sum(axis=1)[:,None]).plot()"
   ]
  },
  {
   "cell_type": "markdown",
   "id": "7d8cee7d-2b06-45b8-adf3-92f2ac932c0e",
   "metadata": {},
   "source": [
    "### Mental_age"
   ]
  },
  {
   "cell_type": "code",
   "execution_count": 87,
   "id": "7d0502b1-9963-48d7-8dac-281c3c6173f8",
   "metadata": {},
   "outputs": [
    {
     "name": "stdout",
     "output_type": "stream",
     "text": [
      "\n",
      "\n",
      "Random forest age (no params)\n",
      "-------------------------------  -----------------------\n",
      "Mean Squared Error               1.5 (1.224744871391589)\n",
      "Correct Predictions:             88/98\n",
      "Overestimated:                   7/98\n",
      "Underestimated:                  3/98\n",
      "\n",
      "\n",
      "Random forest mental age (best params)\n",
      "----------------------------------------  -----------------------\n",
      "Mean Squared Error                        1.5 (1.224744871391589)\n",
      "Correct Predictions:                      88/98\n",
      "Overestimated:                            3/98\n",
      "Underestimated:                           7/98\n",
      "{'max_depth': None, 'min_samples_leaf': 1, 'min_samples_split': 2}\n"
     ]
    }
   ],
   "source": [
    "train_features, train_target, test_features, test_target = get_vars(c=\"age\")\n",
    "\n",
    "rf_clf = RandomForestRegressor(random_state=42)\n",
    "rf_clf.fit(train_features, train_target) #Train the classifier\n",
    "no_param_cv = cross_val_score(rf_clf, train_features, train_target, cv=5)\n",
    "pred_target = rf_clf.predict(test_features) #Make predictions\n",
    "\n",
    "print_stats(test_target, pred_target,\"Random forest age (no params)\",\"age\") #Evaluates\n",
    "\n",
    "# Hyper parameters\n",
    "param_grid = {\"max_depth\":[None,1,2,3,4,5,6], 'min_samples_leaf': [1,2,4,7], 'min_samples_split': [2,3,4]}\n",
    "\n",
    "prog_tree_sh = GridSearchCV(rf_clf, param_grid=param_grid, cv=5).fit(train_features, train_target)\n",
    "pred_target = prog_tree_sh.best_estimator_.predict(test_features) #Make predictions\n",
    "\n",
    "\n",
    "print_stats(pred_target,test_target ,\"Random forest mental age (best params)\", \"age\") #Evaluates\n",
    "print(prog_tree_sh.best_params_)"
   ]
  },
  {
   "cell_type": "markdown",
   "id": "8a251a52-dca6-4e64-ba76-2ba61b1da553",
   "metadata": {},
   "source": [
    "# Support vector"
   ]
  },
  {
   "cell_type": "markdown",
   "id": "cbeb9fad-6f74-4094-8dae-f91819c9f17d",
   "metadata": {},
   "source": [
    "### Stress"
   ]
  },
  {
   "cell_type": "code",
   "execution_count": 70,
   "id": "7d22abed-1c1e-4f1a-bb95-ced31eca50f4",
   "metadata": {},
   "outputs": [
    {
     "name": "stdout",
     "output_type": "stream",
     "text": [
      "\n",
      "\n",
      "Support Vector stress\n",
      "-----------------------  -------------------\n",
      "Test accuracy            0.45918367346938777\n",
      "Correct Predictions:     45/98\n",
      "Overestimated:           0/98\n",
      "Underestimated:          53/98\n",
      "\n",
      "\n",
      "Support Vector stress\n",
      "-----------------------  ------------------\n",
      "Test accuracy            0.2653061224489796\n",
      "Correct Predictions:     26/98\n",
      "Overestimated:           33/98\n",
      "Underestimated:          39/98\n",
      "{'C': 10, 'kernel': 'linear'}\n"
     ]
    }
   ],
   "source": [
    "train_features, train_target, test_features, test_target = get_vars()\n",
    "\n",
    "\n",
    "svm_clf = SVC(class_weight=\"balanced\") \n",
    "svm_clf.fit(train_features, train_target) #Train the classifier\n",
    "pred_target = svm_clf.predict(test_features)\n",
    "\n",
    "print_stats(test_target, pred_target,\"Support Vector stress\") #Evaluates\n",
    "\n",
    "\n",
    "\n",
    "param_grid = [{\"kernel\":[\"linear\"], \"C\":[1,10]}, {\"kernel\":[\"rbf\"], \"C\":[1,10], \"gamma\":[0.001, 0.0001]}]\n",
    "svm_sh = GridSearchCV(svm_clf, param_grid, cv=5).fit(train_features, train_target) #Optimize hyperparameters and train the classifier\n",
    "pred_target = svm_sh.best_estimator_.predict(test_features) #Make predictions\n",
    "\n",
    "print_stats(pred_target,test_target ,\"Support Vector stress\") #Evaluates\n",
    "print(svm_sh.best_params_)\n"
   ]
  },
  {
   "cell_type": "code",
   "execution_count": 71,
   "id": "c054f140",
   "metadata": {},
   "outputs": [
    {
     "data": {
      "text/plain": [
       "<sklearn.metrics._plot.confusion_matrix.ConfusionMatrixDisplay at 0x7ff60dfb0e30>"
      ]
     },
     "execution_count": 71,
     "metadata": {},
     "output_type": "execute_result"
    },
    {
     "data": {
      "image/png": "[encoded data removed]",
      "text/plain": [
       "<Figure size 640x480 with 2 Axes>"
      ]
     },
     "metadata": {},
     "output_type": "display_data"
    }
   ],
   "source": [
    "from sklearn.metrics import ConfusionMatrixDisplay, confusion_matrix\n",
    "cm = confusion_matrix(test_target, pred_target)\n",
    "ConfusionMatrixDisplay(cm / cm.sum(axis=1)[:,None]).plot()"
   ]
  },
  {
   "cell_type": "markdown",
   "id": "175c7a67-7bb3-4ace-99f0-b27898e79b90",
   "metadata": {},
   "source": [
    "### Mental_age"
   ]
  },
  {
   "cell_type": "code",
   "execution_count": 22,
   "id": "2ead15ec-0b2f-439f-b604-913686f8e605",
   "metadata": {},
   "outputs": [
    {
     "name": "stdout",
     "output_type": "stream",
     "text": [
      "\n",
      "\n",
      "Support Vector mental age\n",
      "---------------------------  -------------------------\n",
      "Mean Squared Error           25.27 (5.026927491022722)\n",
      "Correct Predictions:         37/49\n",
      "Overestimated:               12/49\n",
      "Underestimated:              0/49\n"
     ]
    },
    {
     "name": "stderr",
     "output_type": "stream",
     "text": [
      "/home/thomas/mambaforge/envs/dmt/lib/python3.12/site-packages/sklearn/model_selection/_split.py:737: UserWarning: The least populated class in y has only 1 members, which is less than n_splits=5.\n",
      "  warnings.warn(\n"
     ]
    },
    {
     "name": "stdout",
     "output_type": "stream",
     "text": [
      "\n",
      "\n",
      "Support Vector mental age best_params\n",
      "---------------------------------------  -------------------------\n",
      "Mean Squared Error                       4.06 (2.0149441679609885)\n",
      "Correct Predictions:                     48/49\n",
      "Overestimated:                           0/49\n",
      "Underestimated:                          1/49\n",
      "{'C': 10, 'kernel': 'linear'}\n"
     ]
    }
   ],
   "source": [
    "train_features, train_target, test_features, test_target = get_vars(c=\"age\")\n",
    "\n",
    "\n",
    "svr_clf = SVR() \n",
    "svr_clf.fit(train_features, train_target) #Train the classifier\n",
    "pred_target = svr_clf.predict(test_features)\n",
    "\n",
    "print_stats(test_target, pred_target,\"Support Vector mental age\",\"age\") #Evaluates\n",
    "\n",
    "\n",
    "\n",
    "param_grid = [{\"kernel\":[\"linear\"], \"C\":[1,10]}, {\"kernel\":[\"rbf\"], \"C\":[1,10], \"gamma\":[0.001, 0.0001]}]\n",
    "svm_sh = GridSearchCV(svm_clf, param_grid, cv=5).fit(train_features, train_target) #Optimize hyperparameters and train the classifier\n",
    "pred_target = svm_sh.best_estimator_.predict(test_features) #Make predictions\n",
    "\n",
    "print_stats(pred_target,test_target ,\"Support Vector mental age best_params\", \"age\") #Evaluates\n",
    "print(svm_sh.best_params_)"
   ]
  },
  {
   "cell_type": "code",
   "execution_count": null,
   "id": "29ccd61e",
   "metadata": {},
   "outputs": [],
   "source": []
  }
 ],
 "metadata": {
  "kernelspec": {
   "display_name": "Python 3 (ipykernel)",
   "language": "python",
   "name": "python3"
  },
  "language_info": {
   "codemirror_mode": {
    "name": "ipython",
    "version": 3
   },
   "file_extension": ".py",
   "mimetype": "text/x-python",
   "name": "python",
   "nbconvert_exporter": "python",
   "pygments_lexer": "ipython3",
   "version": "3.12.2"
  }
 },
 "nbformat": 4,
 "nbformat_minor": 5
}
