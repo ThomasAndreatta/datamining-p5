{
 "cells": [
  {
   "cell_type": "markdown",
   "id": "71d052b2-b6ae-4f02-be16-d25a6f295602",
   "metadata": {},
   "source": [
    "# Model training"
   ]
  },
  {
   "cell_type": "code",
   "execution_count": 318,
   "id": "9e84fde0-3d28-4f4c-a773-46221c65d36e",
   "metadata": {},
   "outputs": [],
   "source": [
    "import pandas as pd\n",
    "from sklearn.model_selection import train_test_split, cross_val_score, GridSearchCV\n",
    "from sklearn.tree import DecisionTreeClassifier, DecisionTreeRegressor\n",
    "from sklearn.metrics import accuracy_score\n",
    "from sklearn.svm import SVC, SVR\n",
    "from sklearn.ensemble import RandomForestClassifier, RandomForestRegressor\n",
    "from tabulate import tabulate\n",
    "from sklearn.metrics import mean_squared_error\n",
    "import math\n",
    "from sklearn import tree\n",
    "from sklearn.metrics import accuracy_score, confusion_matrix, ConfusionMatrixDisplay\n"
   ]
  },
  {
   "cell_type": "code",
   "execution_count": 319,
   "id": "3739b10a-dd79-467f-aaf7-7574cff5dd01",
   "metadata": {},
   "outputs": [],
   "source": [
    "#debugging stuff\n",
    "def evaluate_stress_predictions(predicted_values,true_values):\n",
    "    # Initialize counters\n",
    "    correct_predictions = 0\n",
    "    overestimated = 0\n",
    "    underestimated = 0\n",
    "\n",
    "    # Compare true and predicted values\n",
    "    for true, pred in zip(true_values, predicted_values):\n",
    "        if true == pred:\n",
    "            correct_predictions += 1\n",
    "        elif true == 'low' and pred == 'medium':\n",
    "            underestimated += 1\n",
    "        elif true == 'medium' and pred == 'low':\n",
    "            overestimated += 1\n",
    "        elif true == 'medium' and pred == 'high':\n",
    "            underestimated += 1\n",
    "        elif true == 'high' and pred == 'medium':\n",
    "            overestimated += 1\n",
    "        elif true == 'high' and pred == 'low':\n",
    "            overestimated += 1\n",
    "        elif true == 'low' and pred == 'high':\n",
    "            underestimated += 1\n",
    "\n",
    "    # Return counts\n",
    "    return correct_predictions, overestimated, underestimated\n",
    "    \n",
    "\n",
    "def evaluate_age_predictions(predicted_values, true_values, error):\n",
    "    # Initialize counters\n",
    "    correct_predictions = 0\n",
    "    overestimated = 0\n",
    "    underestimated = 0\n",
    "    \n",
    "    # Compare true and predicted values\n",
    "    for true, pred in zip(true_values, predicted_values):\n",
    "        true = round(true)\n",
    "        pred = round(pred)\n",
    "        if abs(pred - true) <= error:  # Check if the absolute difference is within the error\n",
    "            correct_predictions += 1\n",
    "        elif pred > true:\n",
    "            overestimated += 1\n",
    "        else:\n",
    "            underestimated += 1\n",
    "    \n",
    "    return correct_predictions, overestimated, underestimated\n",
    "\n",
    "\n",
    "def load_dataset():\n",
    "    train_data = pd.read_csv('./dataset/train_dataset.csv')\n",
    "    test_data = pd.read_csv('./dataset/test_dataset.csv')\n",
    "    # Preprocess training and testing dataset\n",
    "    train_data['bedtime'] = pd.to_datetime(train_data['bedtime']).dt.hour\n",
    "    train_data['activity_intensity'] = train_data['activity_intensity'].map({'low': 0, 'moderate': 1, 'high': 2})\n",
    "\n",
    "    test_data['bedtime'] = pd.to_datetime(test_data['bedtime']).dt.hour\n",
    "    test_data['activity_intensity'] = test_data['activity_intensity'].map({'low': 0, 'moderate': 1, 'high': 2})\n",
    "    return train_data, test_data\n",
    "\n",
    "\n",
    "train_data, test_data = load_dataset()\n",
    "\n",
    "def get_vars(c=\"stress\"):\n",
    "    #train_data, test_data = load_dataset()\n",
    "    \n",
    "    if(c == \"stress\"):\n",
    "        train_features = train_data[['bedtime', 'activity_intensity', 'byear']]\n",
    "        test_features = test_data[['bedtime', 'activity_intensity', 'byear']]\n",
    "        \n",
    "        train_target = train_data['stress_level']\n",
    "        test_target = test_data['stress_level']\n",
    "      \n",
    "        \n",
    "    else:\n",
    "        train_features = train_data[['stress', 'activity_intensity', 'byear']]\n",
    "        test_features = test_data[['stress', 'activity_intensity', 'byear']]\n",
    "        \n",
    "        train_target = train_data['mental_age']\n",
    "        test_target = test_data['mental_age']\n",
    "        \n",
    "        \n",
    "    return train_features, train_target, test_features, test_target\n",
    "\n",
    "def print_stats(pred,test,banner,c=\"stress\"):\n",
    "    '''\n",
    "    try:\n",
    "        head=['Accuracy',accuracy_score(pred,test)]\n",
    "    except:\n",
    "        mse = round(mean_squared_error(test, pred),2)\n",
    "        head= ['Mean Squared Error', str(mse) + \" (\"+str(math.sqrt(mse))+\")\"]\n",
    "    '''\n",
    "    if(c== \"stress\"):\n",
    "        head=['Accuracy',accuracy_score(pred,test)]\n",
    "    else:\n",
    "        mse = round(mean_squared_error(test, pred),2)\n",
    "        head= ['Mean Squared Error', str(mse) + \" (\"+str(math.sqrt(mse))+\")\"]\n",
    "    \n",
    "    if(c==\"stress\"):\n",
    "        correct, over, under = evaluate_stress_predictions(pred, test)\n",
    "    else:\n",
    "        #correct, over, under = evaluate_age_predictions(pred, test,max(1,int(math.sqrt(mse))))\n",
    "        correct, over, under = evaluate_age_predictions(pred, test,int(math.sqrt(mse)))\n",
    "        \n",
    "    data = [head,\n",
    "        [\"Correct Predictions:\", str(correct)+\"/\"+str(len(test))],\n",
    "        [\"Overestimated:\",  str(over)+\"/\"+str(len(test))],\n",
    "        [\"Underestimated:\",  str(under)+\"/\"+str(len(test))]]\n",
    "    print(\"\\n\\n\"+tabulate(data, headers=[banner, \"\"]))"
   ]
  },
  {
   "cell_type": "markdown",
   "id": "a3715739-1bcf-4e4e-992d-d067c3933edc",
   "metadata": {},
   "source": [
    "# Decision tree"
   ]
  },
  {
   "cell_type": "markdown",
   "id": "afb809c4-2738-4ae1-85a5-574f69c1e782",
   "metadata": {},
   "source": [
    "### Stress"
   ]
  },
  {
   "cell_type": "code",
   "execution_count": 320,
   "id": "5f93df4c-f100-443c-a750-32300ff8851a",
   "metadata": {},
   "outputs": [
    {
     "name": "stdout",
     "output_type": "stream",
     "text": [
      "\n",
      "\n",
      "Decision tree stress\n",
      "----------------------  -------------------\n",
      "Accuracy                0.42857142857142855\n",
      "Correct Predictions:    21/49\n",
      "Overestimated:          22/49\n",
      "Underestimated:         6/49\n",
      "\n",
      "\n",
      "Decision tree stress best_params\n",
      "----------------------------------  ------------------\n",
      "Accuracy                            0.3877551020408163\n",
      "Correct Predictions:                19/49\n",
      "Overestimated:                      25/49\n",
      "Underestimated:                     5/49\n",
      "{'max_depth': 3, 'min_samples_leaf': 1, 'min_samples_split': 2}\n"
     ]
    }
   ],
   "source": [
    "train_features, train_target, test_features, test_target = get_vars()\n",
    "\n",
    "clf = DecisionTreeClassifier()\n",
    "clf.fit(train_features, train_target) #Train the classifier\n",
    "pred_target = clf.predict(test_features) #Make predictions\n",
    "\n",
    "print_stats(pred_target,test_target ,\"Decision tree stress\") #Evaluates\n",
    "\n",
    "\n",
    "# Hyper parameters\n",
    "param_grid = {\"max_depth\":[None,1,2,3,4], 'min_samples_leaf': [1,2,3], 'min_samples_split': [2,3,4]}\n",
    "\n",
    "prog_tree_sh = GridSearchCV(clf, param_grid=param_grid, cv=5).fit(train_features, train_target)\n",
    "pred_target = prog_tree_sh.best_estimator_.predict(test_features) #Make predictions\n",
    "\n",
    "print_stats(pred_target,test_target ,\"Decision tree stress best_params\") #Evaluates\n",
    "print(prog_tree_sh.best_params_)\n",
    "#tree.plot_tree(prog_tree_sh.best_estimator_)"
   ]
  },
  {
   "cell_type": "markdown",
   "id": "d300a3ca-e337-422e-9fda-75b4f7105efb",
   "metadata": {},
   "source": [
    "### Mental_age"
   ]
  },
  {
   "cell_type": "code",
   "execution_count": 321,
   "id": "931347e5-a7f8-4f61-a981-3d88377625c9",
   "metadata": {},
   "outputs": [
    {
     "name": "stdout",
     "output_type": "stream",
     "text": [
      "\n",
      "\n",
      "Decision tree mental age\n",
      "--------------------------  -------------------------\n",
      "Mean Squared Error          1.08 (1.0392304845413265)\n",
      "Correct Predictions:        41/49\n",
      "Overestimated:              4/49\n",
      "Underestimated:             4/49\n",
      "\n",
      "\n",
      "Decision tree mental age best_params\n",
      "--------------------------------------  -------------------------\n",
      "Mean Squared Error                      1.11 (1.0535653752852738)\n",
      "Correct Predictions:                    41/49\n",
      "Overestimated:                          4/49\n",
      "Underestimated:                         4/49\n",
      "{'max_depth': 8, 'min_samples_leaf': 1, 'min_samples_split': 2}\n"
     ]
    }
   ],
   "source": [
    "train_features, train_target, test_features, test_target = get_vars(c=\"age\")\n",
    "\n",
    "clf = DecisionTreeRegressor(random_state=42)\n",
    "clf.fit(train_features, train_target) #Train the classifier\n",
    "pred_target = clf.predict(test_features) #Make predictions\n",
    "\n",
    "print_stats(test_target,pred_target,\"Decision tree mental age\",\"age\") #Evaluates\n",
    "\n",
    "# Hyper parameters\n",
    "param_grid = {\"max_depth\":[None,1,2,3,4,5,6,7,8,9], 'min_samples_leaf': [1,2,3,4,5], 'min_samples_split': [2,3,4,5]}\n",
    "\n",
    "prog_tree_sh = GridSearchCV(clf, param_grid=param_grid, cv=5).fit(train_features, train_target)\n",
    "pred_target = prog_tree_sh.best_estimator_.predict(test_features) #Make predictions\n",
    "\n",
    "print_stats(pred_target,test_target ,\"Decision tree mental age best_params\",\"age\") #Evaluates\n",
    "print(prog_tree_sh.best_params_)"
   ]
  },
  {
   "cell_type": "code",
   "execution_count": 322,
   "id": "f34f2105-9802-4014-8e75-ca8b051bcd63",
   "metadata": {},
   "outputs": [],
   "source": [
    "#clf.get_params()#hyperparam"
   ]
  },
  {
   "cell_type": "markdown",
   "id": "13752143-66be-44a2-afe5-684852979206",
   "metadata": {},
   "source": [
    "# Random forest"
   ]
  },
  {
   "cell_type": "markdown",
   "id": "d9af032c-7e9d-4393-ac7a-b2356b4604f3",
   "metadata": {},
   "source": [
    "### Stress"
   ]
  },
  {
   "cell_type": "code",
   "execution_count": 323,
   "id": "ef08cef6-fa7c-4a17-a623-451f9d4b48e3",
   "metadata": {},
   "outputs": [
    {
     "name": "stdout",
     "output_type": "stream",
     "text": [
      "\n",
      "\n",
      "Random forest stress\n",
      "----------------------  -------------------\n",
      "Accuracy                0.42857142857142855\n",
      "Correct Predictions:    21/49\n",
      "Overestimated:          6/49\n",
      "Underestimated:         22/49\n",
      "\n",
      "\n",
      "Random forest stress best_params\n",
      "----------------------------------  ------------------\n",
      "Accuracy                            0.4489795918367347\n",
      "Correct Predictions:                22/49\n",
      "Overestimated:                      25/49\n",
      "Underestimated:                     2/49\n",
      "{'max_depth': 2, 'min_samples_leaf': 3, 'min_samples_split': 2}\n"
     ]
    }
   ],
   "source": [
    "train_features, train_target, test_features, test_target = get_vars()\n",
    "\n",
    "rf_clf = RandomForestClassifier(random_state=42)\n",
    "rf_clf.fit(train_features, train_target) #Train the classifier\n",
    "pred_target = rf_clf.predict(test_features) #Make predictions\n",
    "\n",
    "print_stats(test_target, pred_target,\"Random forest stress\") #Evaluates\n",
    "\n",
    "# Hyper parameters\n",
    "param_grid = {\"max_depth\":[None,1,2,3,4], 'min_samples_leaf': [1,2,3], 'min_samples_split': [2,3,4]}\n",
    "\n",
    "prog_tree_sh = GridSearchCV(rf_clf, param_grid=param_grid, cv=5).fit(train_features, train_target)\n",
    "pred_target = prog_tree_sh.best_estimator_.predict(test_features) #Make predictions\n",
    "\n",
    "    \n",
    "print_stats(pred_target,test_target ,\"Random forest stress best_params\") #Evaluates\n",
    "print(prog_tree_sh.best_params_)"
   ]
  },
  {
   "cell_type": "markdown",
   "id": "7d8cee7d-2b06-45b8-adf3-92f2ac932c0e",
   "metadata": {},
   "source": [
    "### Mental_age"
   ]
  },
  {
   "cell_type": "code",
   "execution_count": 324,
   "id": "7d0502b1-9963-48d7-8dac-281c3c6173f8",
   "metadata": {},
   "outputs": [
    {
     "name": "stdout",
     "output_type": "stream",
     "text": [
      "\n",
      "\n",
      "Random forest age\n",
      "--------------------  ------------------------\n",
      "Mean Squared Error    1.22 (1.104536101718726)\n",
      "Correct Predictions:  42/49\n",
      "Overestimated:        4/49\n",
      "Underestimated:       3/49\n",
      "\n",
      "\n",
      "Random forest mental age best_params\n",
      "--------------------------------------  ------------------------\n",
      "Mean Squared Error                      1.8 (1.3416407864998738)\n",
      "Correct Predictions:                    41/49\n",
      "Overestimated:                          2/49\n",
      "Underestimated:                         6/49\n",
      "{'max_depth': None, 'min_samples_leaf': 2, 'min_samples_split': 2}\n"
     ]
    }
   ],
   "source": [
    "train_features, train_target, test_features, test_target = get_vars(c=\"age\")\n",
    "\n",
    "rf_clf = RandomForestRegressor(random_state=42)\n",
    "rf_clf.fit(train_features, train_target) #Train the classifier\n",
    "pred_target = rf_clf.predict(test_features) #Make predictions\n",
    "\n",
    "print_stats(test_target, pred_target,\"Random forest age\",\"age\") #Evaluates\n",
    "\n",
    "# Hyper parameters\n",
    "param_grid = {\"max_depth\":[None,1,2,3,4], 'min_samples_leaf': [1,2,3], 'min_samples_split': [2,3,4]}\n",
    "\n",
    "prog_tree_sh = GridSearchCV(rf_clf, param_grid=param_grid, cv=5).fit(train_features, train_target)\n",
    "pred_target = prog_tree_sh.best_estimator_.predict(test_features) #Make predictions\n",
    "\n",
    "\n",
    "print_stats(pred_target,test_target ,\"Random forest mental age best_params\", \"age\") #Evaluates\n",
    "print(prog_tree_sh.best_params_)"
   ]
  },
  {
   "cell_type": "markdown",
   "id": "8a251a52-dca6-4e64-ba76-2ba61b1da553",
   "metadata": {},
   "source": [
    "# Support vector"
   ]
  },
  {
   "cell_type": "markdown",
   "id": "cbeb9fad-6f74-4094-8dae-f91819c9f17d",
   "metadata": {},
   "source": [
    "### Stress"
   ]
  },
  {
   "cell_type": "code",
   "execution_count": 325,
   "id": "7d22abed-1c1e-4f1a-bb95-ced31eca50f4",
   "metadata": {},
   "outputs": [
    {
     "name": "stdout",
     "output_type": "stream",
     "text": [
      "\n",
      "\n",
      "Support Vector stress\n",
      "-----------------------  ------------------\n",
      "Accuracy                 0.4489795918367347\n",
      "Correct Predictions:     22/49\n",
      "Overestimated:           0/49\n",
      "Underestimated:          27/49\n"
     ]
    }
   ],
   "source": [
    "train_features, train_target, test_features, test_target = get_vars()\n",
    "\n",
    "svm_clf = SVC(kernel='linear', random_state=42)  #You can choose different kernels as well\n",
    "svm_clf.fit(train_features, train_target) #Train the classifier\n",
    "pred_target = svm_clf.predict(test_features) #Make predictions\n",
    "\n",
    "print_stats(test_target, pred_target,\"Support Vector stress\") #Evaluates\n"
   ]
  },
  {
   "cell_type": "markdown",
   "id": "175c7a67-7bb3-4ace-99f0-b27898e79b90",
   "metadata": {},
   "source": [
    "### Mental_age"
   ]
  },
  {
   "cell_type": "code",
   "execution_count": 326,
   "id": "2ead15ec-0b2f-439f-b604-913686f8e605",
   "metadata": {},
   "outputs": [
    {
     "name": "stdout",
     "output_type": "stream",
     "text": [
      "\n",
      "\n",
      "Support Vector mental age\n",
      "---------------------------  ------------------------\n",
      "Mean Squared Error           0.08 (0.282842712474619)\n",
      "Correct Predictions:         44/49\n",
      "Overestimated:               2/49\n",
      "Underestimated:              3/49\n"
     ]
    }
   ],
   "source": [
    "train_features, train_target, test_features, test_target = get_vars(c=\"age\")\n",
    "\n",
    "svm_clf = SVR(kernel='linear') \n",
    "svm_clf.fit(train_features, train_target) #Train the classifier\n",
    "pred_target = svm_clf.predict(test_features) #Make predictions\n",
    "\n",
    "print_stats(test_target, pred_target,\"Support Vector mental age\",\"age\") #Evaluates"
   ]
  }
 ],
 "metadata": {
  "kernelspec": {
   "display_name": "Python 3 (ipykernel)",
   "language": "python",
   "name": "python3"
  },
  "language_info": {
   "codemirror_mode": {
    "name": "ipython",
    "version": 3
   },
   "file_extension": ".py",
   "mimetype": "text/x-python",
   "name": "python",
   "nbconvert_exporter": "python",
   "pygments_lexer": "ipython3",
   "version": "3.10.12"
  }
 },
 "nbformat": 4,
 "nbformat_minor": 5
}
