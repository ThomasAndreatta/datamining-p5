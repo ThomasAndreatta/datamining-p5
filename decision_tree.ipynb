{
 "cells": [
  {
   "cell_type": "code",
   "execution_count": 5,
   "metadata": {},
   "outputs": [],
   "source": [
    "import pandas as pd\n",
    "import numpy as np\n",
    "\n",
    "import matplotlib.pyplot as plt\n",
    "import matplotlib as mpl\n",
    "\n",
    "from sklearn.model_selection import train_test_split, cross_val_score, GridSearchCV\n",
    "from sklearn import tree\n",
    "from sklearn.metrics import accuracy_score, confusion_matrix"
   ]
  },
  {
   "cell_type": "code",
   "execution_count": 6,
   "metadata": {},
   "outputs": [
    {
     "data": {
      "text/html": [
       "<div>\n",
       "<style scoped>\n",
       "    .dataframe tbody tr th:only-of-type {\n",
       "        vertical-align: middle;\n",
       "    }\n",
       "\n",
       "    .dataframe tbody tr th {\n",
       "        vertical-align: top;\n",
       "    }\n",
       "\n",
       "    .dataframe thead th {\n",
       "        text-align: right;\n",
       "    }\n",
       "</style>\n",
       "<table border=\"1\" class=\"dataframe\">\n",
       "  <thead>\n",
       "    <tr style=\"text-align: right;\">\n",
       "      <th></th>\n",
       "      <th>programme</th>\n",
       "      <th>mlcourse</th>\n",
       "      <th>ircourse</th>\n",
       "      <th>statcourse</th>\n",
       "      <th>dbcourse</th>\n",
       "      <th>knowledge</th>\n",
       "      <th>stress</th>\n",
       "      <th>bedtime</th>\n",
       "      <th>bedtime_segment</th>\n",
       "      <th>sporthours</th>\n",
       "      <th>activity_intensity</th>\n",
       "      <th>byear</th>\n",
       "      <th>age</th>\n",
       "      <th>mental_age</th>\n",
       "      <th>mental_biological_age</th>\n",
       "      <th>gender</th>\n",
       "      <th>chatGPT</th>\n",
       "      <th>random</th>\n",
       "      <th>bmonth</th>\n",
       "    </tr>\n",
       "  </thead>\n",
       "  <tbody>\n",
       "    <tr>\n",
       "      <th>0</th>\n",
       "      <td>unknown</td>\n",
       "      <td>no</td>\n",
       "      <td>no</td>\n",
       "      <td>mu</td>\n",
       "      <td>nee</td>\n",
       "      <td>6</td>\n",
       "      <td>42.242203</td>\n",
       "      <td>01:00</td>\n",
       "      <td>Late Night</td>\n",
       "      <td>10.0</td>\n",
       "      <td>High</td>\n",
       "      <td>1999</td>\n",
       "      <td>25</td>\n",
       "      <td>27</td>\n",
       "      <td>older</td>\n",
       "      <td>female</td>\n",
       "      <td>yes</td>\n",
       "      <td>360.0</td>\n",
       "      <td>3.0</td>\n",
       "    </tr>\n",
       "    <tr>\n",
       "      <th>1</th>\n",
       "      <td>unknown</td>\n",
       "      <td>no</td>\n",
       "      <td>no</td>\n",
       "      <td>mu</td>\n",
       "      <td>nee</td>\n",
       "      <td>6</td>\n",
       "      <td>35.000000</td>\n",
       "      <td>01:00</td>\n",
       "      <td>Late Night</td>\n",
       "      <td>4.0</td>\n",
       "      <td>Moderate</td>\n",
       "      <td>1994</td>\n",
       "      <td>30</td>\n",
       "      <td>33</td>\n",
       "      <td>older</td>\n",
       "      <td>female</td>\n",
       "      <td>yes</td>\n",
       "      <td>47.0</td>\n",
       "      <td>10.0</td>\n",
       "    </tr>\n",
       "    <tr>\n",
       "      <th>2</th>\n",
       "      <td>artificial intelligence</td>\n",
       "      <td>yes</td>\n",
       "      <td>yes</td>\n",
       "      <td>mu</td>\n",
       "      <td>ja</td>\n",
       "      <td>14</td>\n",
       "      <td>76.000000</td>\n",
       "      <td>00:00</td>\n",
       "      <td>Late Night</td>\n",
       "      <td>0.0</td>\n",
       "      <td>Low</td>\n",
       "      <td>1996</td>\n",
       "      <td>28</td>\n",
       "      <td>36</td>\n",
       "      <td>older</td>\n",
       "      <td>female</td>\n",
       "      <td>not willing to say</td>\n",
       "      <td>35.0</td>\n",
       "      <td>4.0</td>\n",
       "    </tr>\n",
       "  </tbody>\n",
       "</table>\n",
       "</div>"
      ],
      "text/plain": [
       "                 programme mlcourse ircourse statcourse dbcourse  knowledge  \\\n",
       "0                  unknown       no       no         mu      nee          6   \n",
       "1                  unknown       no       no         mu      nee          6   \n",
       "2  artificial intelligence      yes      yes         mu       ja         14   \n",
       "\n",
       "      stress bedtime bedtime_segment  sporthours activity_intensity  byear  \\\n",
       "0  42.242203   01:00      Late Night        10.0               High   1999   \n",
       "1  35.000000   01:00      Late Night         4.0           Moderate   1994   \n",
       "2  76.000000   00:00      Late Night         0.0                Low   1996   \n",
       "\n",
       "   age  mental_age mental_biological_age  gender             chatGPT  random  \\\n",
       "0   25          27                 older  female                 yes   360.0   \n",
       "1   30          33                 older  female                 yes    47.0   \n",
       "2   28          36                 older  female  not willing to say    35.0   \n",
       "\n",
       "   bmonth  \n",
       "0     3.0  \n",
       "1    10.0  \n",
       "2     4.0  "
      ]
     },
     "execution_count": 6,
     "metadata": {},
     "output_type": "execute_result"
    }
   ],
   "source": [
    "dataset = pd.read_csv(\"./dataset/feature_engineering.csv\", header=0)\n",
    "dataset.head(3)"
   ]
  },
  {
   "cell_type": "code",
   "execution_count": 94,
   "metadata": {},
   "outputs": [],
   "source": [
    "X = dataset[dataset[\"programme\"] != \"unknown\"].drop([\"bedtime\",\"random\"], axis=1)\n",
    "#v = X[\"programme\"].value_counts()\n",
    "#X = X[X[\"programme\"].isin(v.index[v.gt(5)])]\n",
    "\n",
    "cats = [\"mlcourse\",\"ircourse\", \"statcourse\",\"dbcourse\",\"gender\",\"chatGPT\",\"bedtime_segment\",\n",
    "            \"programme\",\"activity_intensity\",\"mental_biological_age\"]\n",
    "cats_labels = {}\n",
    "\n",
    "for var in cats:\n",
    "    posvars = []\n",
    "    newcol = []  \n",
    "    for line in X.index:\n",
    "        if not X.loc[line,var] in posvars:\n",
    "            posvars.append(X.loc[line,var])\n",
    "        newcol.append(posvars.index(X.loc[line,var]))\n",
    "    #print(f\"{var} new ordering: {posvars}\")\n",
    "    cats_labels[var] = posvars\n",
    "    X[var] = newcol\n",
    "\n",
    "target = \"activity_intensity\"\n",
    "y = X[target]\n",
    "X = X.drop(target, axis=1)\n",
    "\n",
    "X_train, X_test, y_train, y_test = train_test_split(X, y, test_size=0.5)\n",
    "\n",
    "param_grid = {\"max_depth\":[2,3,4,5,7,9,None]}\n",
    "estim = tree.DecisionTreeClassifier()\n",
    "\n",
    "prog_tree_sh = GridSearchCV(estim, param_grid=param_grid, cv=5).fit(X_train, y_train)\n"
   ]
  },
  {
   "cell_type": "code",
   "execution_count": 95,
   "metadata": {},
   "outputs": [
    {
     "name": "stdout",
     "output_type": "stream",
     "text": [
      "1.0\n",
      "{'max_depth': 2}\n"
     ]
    },
    {
     "data": {
      "text/plain": [
       "[Text(0.6, 0.8333333333333334, 'x[8] <= 6.5\\ngini = 0.658\\nsamples = 110\\nvalue = [31.0, 45.0, 34.0]'),\n",
       " Text(0.4, 0.5, 'x[8] <= 2.5\\ngini = 0.483\\nsamples = 76\\nvalue = [31, 45, 0]'),\n",
       " Text(0.2, 0.16666666666666666, 'gini = 0.0\\nsamples = 31\\nvalue = [31, 0, 0]'),\n",
       " Text(0.6, 0.16666666666666666, 'gini = 0.0\\nsamples = 45\\nvalue = [0, 45, 0]'),\n",
       " Text(0.8, 0.5, 'gini = 0.0\\nsamples = 34\\nvalue = [0, 0, 34]')]"
      ]
     },
     "execution_count": 95,
     "metadata": {},
     "output_type": "execute_result"
    },
    {
     "data": {
      "image/png": "[encoded data removed]",
      "text/plain": [
       "<Figure size 640x480 with 1 Axes>"
      ]
     },
     "metadata": {},
     "output_type": "display_data"
    }
   ],
   "source": [
    "print(prog_tree_sh.best_score_)\n",
    "print(prog_tree_sh.best_params_)\n",
    "tree.plot_tree(prog_tree_sh.best_estimator_)"
   ]
  },
  {
   "cell_type": "code",
   "execution_count": 96,
   "metadata": {},
   "outputs": [
    {
     "name": "stdout",
     "output_type": "stream",
     "text": [
      "99.0909090909091\n",
      "[[42  0  0]\n",
      " [ 0 44  1]\n",
      " [ 0  0 23]]\n"
     ]
    },
    {
     "data": {
      "text/plain": [
       "<sklearn.metrics._plot.confusion_matrix.ConfusionMatrixDisplay at 0x7f7029d02cf0>"
      ]
     },
     "execution_count": 96,
     "metadata": {},
     "output_type": "execute_result"
    },
    {
     "data": {
      "image/png": "[encoded data removed]",
      "text/plain": [
       "<Figure size 640x480 with 2 Axes>"
      ]
     },
     "metadata": {},
     "output_type": "display_data"
    }
   ],
   "source": [
    "from sklearn.metrics import ConfusionMatrixDisplay\n",
    "y_hat = prog_tree_sh.best_estimator_.predict(X_test)\n",
    "print(accuracy_score(y_test, y_hat)*100)\n",
    "cm = confusion_matrix(y_test, y_hat)\n",
    "print(cm)\n",
    "ConfusionMatrixDisplay(cm / cm.sum(axis=1)[:,None]).plot()\n"
   ]
  },
  {
   "cell_type": "code",
   "execution_count": 63,
   "metadata": {},
   "outputs": [
    {
     "name": "stdout",
     "output_type": "stream",
     "text": [
      "382.5407767455322\n",
      "12.19772469629157\n"
     ]
    }
   ],
   "source": [
    "from sklearn.metrics import mean_squared_error, mean_absolute_error\n",
    "y_hat = prog_tree_sh.best_estimator_.predict(X_test)\n",
    "print(mean_squared_error(y_test, y_hat))\n",
    "print(mean_absolute_error(y_test, y_hat))\n",
    "\n",
    "\n"
   ]
  }
 ],
 "metadata": {
  "kernelspec": {
   "display_name": "dmt",
   "language": "python",
   "name": "python3"
  },
  "language_info": {
   "codemirror_mode": {
    "name": "ipython",
    "version": 3
   },
   "file_extension": ".py",
   "mimetype": "text/x-python",
   "name": "python",
   "nbconvert_exporter": "python",
   "pygments_lexer": "ipython3",
   "version": "3.12.2"
  }
 },
 "nbformat": 4,
 "nbformat_minor": 2
}
