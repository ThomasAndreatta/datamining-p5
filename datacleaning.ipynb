{
 "cells": [
  {
   "cell_type": "code",
   "execution_count": 20,
   "metadata": {
    "ExecuteTime": {
     "end_time": "2024-04-07T21:50:59.906507Z",
     "start_time": "2024-04-07T21:50:59.902038Z"
    }
   },
   "outputs": [],
   "source": [
    "import pandas as pd\n",
    "import numpy as np\n",
    "\n",
    "import matplotlib.pyplot as plt\n",
    "import matplotlib as mpl\n",
    "import re\n",
    "import copy\n",
    "\n",
    "def debugger(key):\n",
    "    with pd.option_context('display.max_rows', None, 'display.max_columns', None): \n",
    "        for a in dataset[key]:\n",
    "            print(f\"{a}\")"
   ]
  },
  {
   "cell_type": "code",
   "execution_count": 21,
   "metadata": {
    "ExecuteTime": {
     "end_time": "2024-04-07T21:51:00.393923Z",
     "start_time": "2024-04-07T21:51:00.388795Z"
    }
   },
   "outputs": [],
   "source": [
    "#headers setting\n",
    "colnames = [\"Tijdstempel\",\"programme\",\"mlcourse\",\"ircourse\",\"statcourse\",\"dbcourse\",\"gender\",\"chatGPT\",\"birthday\",\"studentestimate\",\n",
    "            \"stand\",\"stress\",\"sporthours\",\"random\",\"bedtime\",\"goodday1\",\"goodday2\"]\n",
    "dataset = pd.read_csv(\"./dataset/ODI-2024.csv\", skiprows=3, names=colnames)\n",
    "dataset.drop(\"Tijdstempel\", axis=1, inplace=True)\n",
    "dataset[\"mlcourse\"] = dataset[\"mlcourse\"].astype(\"category\")\n",
    "dataset[\"ircourse\"] = dataset[\"ircourse\"].astype(\"category\")\n",
    "dataset[\"statcourse\"] = dataset[\"statcourse\"].astype(\"category\")\n",
    "dataset[\"gender\"] = dataset[\"gender\"].astype(\"category\")\n",
    "dataset[\"chatGPT\"] = dataset[\"chatGPT\"].astype(\"category\")\n",
    "dataset[\"stand\"] = dataset[\"stand\"].astype(\"category\")\n",
    "#dataset.head()\n",
    "original_number=len(dataset)\n"
   ]
  },
  {
   "cell_type": "code",
   "execution_count": 22,
   "metadata": {
    "ExecuteTime": {
     "end_time": "2024-04-07T21:51:02.096798Z",
     "start_time": "2024-04-07T21:51:02.093062Z"
    }
   },
   "outputs": [
    {
     "name": "stdout",
     "output_type": "stream",
     "text": [
      "dropped:  0\n"
     ]
    }
   ],
   "source": [
    "#program generalize\n",
    "def generalizeProgramme(x):\n",
    "    if \"bioinformatics\" in x or \"bisb\" in x:\n",
    "        return \"bioinformatics and systems biology\"\n",
    "    if \"econometrics\" in x:\n",
    "        return \"econometrics and data science\"\n",
    "    if \"fintech\" in x:\n",
    "        return \"finiancial technology\"\n",
    "    if \"computational science\" in x:\n",
    "        return \"computational science\"\n",
    "    if \"human language technology\" in x:\n",
    "        return \"human language technology\"\n",
    "    if \"business analytics\" in x:\n",
    "        return \"business analytics\"\n",
    "    if \"computational finance\" in x:\n",
    "        return \"computational finance\"\n",
    "    if \"big data\" in x:\n",
    "        if \"engineering\" in x:\n",
    "            return \"big data engineering\"\n",
    "        else:\n",
    "            return \"big data\"\n",
    "    if \"political data journalism\" in x:\n",
    "        return \"political data journalism\"\n",
    "    if \"quantitative risk management\" in x:\n",
    "        return \"quantitative risk management\"\n",
    "    if \"software engineering\" in x:\n",
    "        return \"software engineering\"\n",
    "    if \"cls\" in x:\n",
    "        return \"critical language scholarship\"\n",
    "    if \" ai \" in x or \"artificial intelligence\" in x:\n",
    "        if \"health\" in x:\n",
    "            return \"ai for health\"\n",
    "        else:\n",
    "            return \"artificial intelligence\"\n",
    "    if \" cs \" in x or \"computer science\" in x:\n",
    "        return \"computer science\"\n",
    "    if \"ba\" in x:\n",
    "        return \"bachelor of arts\"\n",
    "    if \"mpa\" in x:\n",
    "        return \"public administration\"\n",
    "    \n",
    "\n",
    "dataset[\"programme\"] = dataset[\"programme\"].map(lambda x: x.lower())\n",
    "dataset[\"programme\"] = dataset[\"programme\"].map(lambda x: f\" {x} \")\n",
    "dataset[\"programme\"] = dataset[\"programme\"].map(generalizeProgramme)\n",
    "dataset['programme'] = dataset['programme'].fillna('unknown')\n",
    "dataset[\"programme\"] = dataset[\"programme\"].astype(\"category\")\n",
    "\n",
    "dataset.head()\n",
    "print(\"dropped: \",original_number-len(dataset))\n"
   ]
  },
  {
   "cell_type": "code",
   "execution_count": 23,
   "metadata": {
    "scrolled": true,
    "ExecuteTime": {
     "end_time": "2024-04-07T21:51:02.840158Z",
     "start_time": "2024-04-07T21:51:02.835132Z"
    }
   },
   "outputs": [
    {
     "name": "stdout",
     "output_type": "stream",
     "text": [
      "dropped:  0\n"
     ]
    }
   ],
   "source": [
    "#stress\n",
    "tmp = copy.deepcopy(dataset)\n",
    "def stress_outlier(dataset):\n",
    "    # Calculate the interquartile range (IQR)\n",
    "    Q1 = dataset['stress'].quantile(0.25)\n",
    "    Q3 = dataset['stress'].quantile(0.75)\n",
    "    IQR = Q3 - Q1\n",
    "    \n",
    "    # Define the lower and upper bounds for outlier detection\n",
    "    lower_bound = Q1 - 1.5 * IQR\n",
    "    upper_bound = Q3 + 1.5 * IQR\n",
    "    \n",
    "    # Filter out the outliers\n",
    "    outliers = dataset[(dataset['stress'] < lower_bound) | (dataset['stress'] > upper_bound)]\n",
    "    \n",
    "    # Calculate the average stress level excluding the outliers\n",
    "    non_outlier_data = dataset[(dataset['stress'] >= lower_bound) & (dataset['stress'] <= upper_bound)]\n",
    "    avg_stress_without_outliers = non_outlier_data['stress'].mean()\n",
    "    \n",
    "    # Replace the outliers with the calculated average\n",
    "    dataset.loc[outliers.index, 'stress'] = avg_stress_without_outliers\n",
    "    \n",
    "    return dataset\n",
    "\n",
    "# Apply the function to replace outliers with the average calculated without outliers\n",
    "dataset = stress_outlier(dataset)\n",
    "'''\n",
    "with pd.option_context('display.max_rows', None, 'display.max_columns', None): \n",
    "    for edited, original in zip(dataset['stress'], tmp['stress']):\n",
    "            print(f\"{original} => {edited}\")\n",
    "'''\n",
    "dataset.head()\n",
    "print(\"dropped: \",original_number-len(dataset))\n"
   ]
  },
  {
   "cell_type": "code",
   "execution_count": 24,
   "metadata": {
    "ExecuteTime": {
     "end_time": "2024-04-07T21:51:03.557752Z",
     "start_time": "2024-04-07T21:51:03.555390Z"
    }
   },
   "outputs": [
    {
     "name": "stdout",
     "output_type": "stream",
     "text": [
      "dropped:  2\n"
     ]
    }
   ],
   "source": [
    "#print(dataset.columns)\n",
    "#sporthours\n",
    "dataset['sporthours'] = dataset['sporthours'].astype(str).str.extract('(\\d+)').astype(float).fillna(0).astype(int)\n",
    "\n",
    "\n",
    "#student estimate\n",
    "dataset['studentestimate'] = pd.to_numeric(dataset['studentestimate'], errors='coerce').fillna(0)\n",
    "dataset['studentestimate'] = dataset['studentestimate'].apply(lambda x: round(x / 20) * 20)\n",
    "outlier_threshold = 600\n",
    "# Filter out row with 'studentestimate' values beyond the outlier threshold\n",
    "dataset = dataset[dataset['studentestimate'] <= outlier_threshold]\n",
    "dataset['random'] = pd.to_numeric(dataset['random'], errors='coerce').fillna(0)\n",
    "\n",
    "# ircourses\n",
    "dataset['ircourse'] = dataset['ircourse'].str.replace('0','no').str.replace('1','yes')\n",
    "\n",
    "\n",
    "# Estimate\n",
    "def clean_and_convert_estimate(value):\n",
    "    # Remove non-numeric characters and spaces\n",
    "    cleaned_value = re.sub(r'[^\\d-]+', '', str(value))\n",
    "    \n",
    "    # If the cleaned value contains a hyphen, split it into two numbers\n",
    "    if '-' in cleaned_value:\n",
    "        start, end = cleaned_value.split('-')\n",
    "        try:\n",
    "            return (int(start) + int(end)) // 2  # Return the average of the range\n",
    "        except ValueError:\n",
    "            return None  # Return None if the range cannot be converted\n",
    "    else:\n",
    "        # Convert to integer\n",
    "        try:\n",
    "            return int(cleaned_value)\n",
    "        except ValueError:\n",
    "            return None  # Return None if the value cannot be converted to an integer\n",
    "\n",
    "dataset['studentestimate'] = dataset['studentestimate'].map(clean_and_convert_estimate)\n",
    "#dataset.head()\n",
    "print(\"dropped: \",original_number-len(dataset))"
   ]
  },
  {
   "cell_type": "code",
   "execution_count": 25,
   "metadata": {
    "ExecuteTime": {
     "end_time": "2024-04-07T21:51:04.363813Z",
     "start_time": "2024-04-07T21:51:04.356873Z"
    }
   },
   "outputs": [
    {
     "name": "stdout",
     "output_type": "stream",
     "text": [
      "dropped:  2\n"
     ]
    },
    {
     "data": {
      "text/plain": "'\\n#comparing the pre elaboration with the post to check\\nwith pd.option_context(\\'display.max_rows\\', None, \\'display.max_columns\\', None): \\n    for edited, original in zip(dataset[\\'bedtime\\'], tmp[\\'bedtime\\']):\\n            print(f\"{original} => {edited}\")\\n'"
     },
     "execution_count": 25,
     "metadata": {},
     "output_type": "execute_result"
    }
   ],
   "source": [
    "#bedtime\n",
    "tmp= copy.deepcopy(dataset)#debug purpose\n",
    "\n",
    "def clean_time(x):\n",
    "    if pd.isna(x):\n",
    "        return np.nan\n",
    "    x = str(x)\n",
    "    patterns = [\n",
    "        r'(\\d{1,2}:\\d{2})',            # hh:mm format\n",
    "        r'(\\d{1,2}(\\.\\d{2})?\\s*[ap]m)', # hh[.mm] am/pm format\n",
    "        r'(\\d{1,2}\\s*(am|pm))',         # hh am/pm format\n",
    "        r'(\\d{1,2})'                    # hh format\n",
    "    ]\n",
    "    # Search for time value in the string using each pattern\n",
    "    for pattern in patterns:\n",
    "        match = re.search(pattern, x, flags=re.IGNORECASE)\n",
    "        if match:\n",
    "            return match.group(1)\n",
    "    #return np.nan\n",
    "    return \"00:00\"\n",
    "\n",
    "# Function to format time values as hh:mm\n",
    "def format_time(x):\n",
    "    if pd.isna(x):\n",
    "        return np.nan\n",
    "    parts = x.split(':')\n",
    "    if len(parts) == 1:  # If only hour is provided\n",
    "        hour = parts[0].zfill(2)\n",
    "        if (int(hour) >= 9) & (int(hour) <= 12): # If pm time is provided\n",
    "            hour = str(int(hour) + 12)\n",
    "        return f\"{hour}:00\"\n",
    "    elif len(parts) == 2:  # If both hour and minute are provided\n",
    "        hour = parts[0].zfill(2)\n",
    "        if (int(hour) >= 9) & (int(hour) <= 12): # If pm time is provided\n",
    "            hour = str(int(hour) + 12)\n",
    "        minute = parts[1].zfill(2)\n",
    "        return f\"{hour}:{minute}\"\n",
    "    else:\n",
    "        return np.nan\n",
    "\n",
    "\n",
    "dataset['bedtime'] = dataset['bedtime'].astype(str).str.replace('AM', '').str.replace('PM', '').str.replace('s morgens', '').str.replace('am', '').str.replace('pm', '')\n",
    "dataset['bedtime'] = dataset['bedtime'].apply(clean_time)\n",
    "dataset['bedtime'] = dataset['bedtime'].apply(format_time)\n",
    "print(\"dropped: \",original_number-len(dataset))\n",
    "\n",
    "'''\n",
    "#comparing the pre elaboration with the post to check\n",
    "with pd.option_context('display.max_rows', None, 'display.max_columns', None): \n",
    "    for edited, original in zip(dataset['bedtime'], tmp['bedtime']):\n",
    "            print(f\"{original} => {edited}\")\n",
    "'''"
   ]
  },
  {
   "cell_type": "code",
   "execution_count": 26,
   "metadata": {
    "ExecuteTime": {
     "end_time": "2024-04-07T21:51:05.560542Z",
     "start_time": "2024-04-07T21:51:05.554212Z"
    }
   },
   "outputs": [],
   "source": [
    "dataset.to_csv('./dataset/normalized.csv', index=False)\n"
   ]
  },
  {
   "cell_type": "code",
   "execution_count": 26,
   "outputs": [],
   "source": [],
   "metadata": {
    "collapsed": false,
    "ExecuteTime": {
     "end_time": "2024-04-07T21:51:06.833890Z",
     "start_time": "2024-04-07T21:51:06.821352Z"
    }
   }
  },
  {
   "cell_type": "code",
   "execution_count": null,
   "outputs": [],
   "source": [],
   "metadata": {
    "collapsed": false
   }
  }
 ],
 "metadata": {
  "kernelspec": {
   "display_name": "Python 3 (ipykernel)",
   "language": "python",
   "name": "python3"
  },
  "language_info": {
   "codemirror_mode": {
    "name": "ipython",
    "version": 3
   },
   "file_extension": ".py",
   "mimetype": "text/x-python",
   "name": "python",
   "nbconvert_exporter": "python",
   "pygments_lexer": "ipython3",
   "version": "3.10.12"
  }
 },
 "nbformat": 4,
 "nbformat_minor": 4
}
