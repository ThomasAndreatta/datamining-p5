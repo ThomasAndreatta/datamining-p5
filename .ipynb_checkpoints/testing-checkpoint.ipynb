{
 "cells": [
  {
   "cell_type": "code",
   "execution_count": null,
   "metadata": {},
   "outputs": [],
   "source": [
    "import pandas as pd\n",
    "import numpy as np\n",
    "\n",
    "import matplotlib.pyplot as plt\n",
    "import matplotlib as mpl\n",
    "\n",
    "import scipy.stats as stats"
   ]
  },
  {
   "cell_type": "code",
   "execution_count": null,
   "metadata": {},
   "outputs": [],
   "source": [
    "#Data loading into pandas object\n",
    "\n",
    "dataset = pd.read_csv(\"./dataset/mood_dataset.csv\", parse_dates=[\"time\"], index_col=0)\n",
    "dataset[\"date\"] = pd.to_datetime(dataset[\"time\"].dt.date)\n",
    "#dataset = dataset[dataset['id'] == \"AS14.01\"]                                              \n",
    "\n",
    "\n",
    "print(dataset.head(3))\n",
    "unique_ids = dataset[\"id\"].unique()\n",
    "unique_variables = dataset[\"variable\"].unique()\n",
    "print(f\"Amount of IDs {unique_ids.size}\")\n",
    "print(f\"Amount of variables {unique_variables.size}\")\n",
    "\n"
   ]
  },
  {
   "cell_type": "code",
   "execution_count": null,
   "metadata": {},
   "outputs": [],
   "source": [
    "\n",
    "dataEngineeredDict = {\"id\":[], \"date\":[]}\n",
    "for var in dataset[\"variable\"].unique():\n",
    "    dataEngineeredDict[var] = []\n",
    "\n",
    "for id in dataset[\"id\"].unique():\n",
    "    idFrame = dataset[dataset[\"id\"]==id]\n",
    "    startDate = idFrame[\"date\"].min()\n",
    "    endDate = idFrame[\"date\"].max()\n",
    "    for date in pd.date_range(startDate, endDate):\n",
    "        dataEngineeredDict[\"id\"].append(id)\n",
    "        dataEngineeredDict[\"date\"].append(date)\n",
    "        idDateFrame = idFrame[idFrame[\"date\"]==date]\n",
    "        for uvar in dataset[\"variable\"].unique():\n",
    "            if uvar in [\"mood\", \"circumplex.arousal\", \"circumplex.valence\", \"activity\"]:\n",
    "                dataEngineeredDict[uvar].append(idDateFrame[idDateFrame[\"variable\"]==uvar][\"value\"].mean())\n",
    "            else:\n",
    "                dataEngineeredDict[uvar].append(idDateFrame[idDateFrame[\"variable\"]==uvar][\"value\"].sum())\n",
    "                \n",
    "engineeredFrame = pd.DataFrame(dataEngineeredDict)\n",
    "engineeredFrame.head()\n"
   ]
  },
  {
   "cell_type": "code",
   "execution_count": null,
   "metadata": {},
   "outputs": [],
   "source": [
    "\n",
    "engineeredFrameDroppedDate = engineeredFrame.drop([\"id\",\"date\"], axis=1)\n",
    "spearmancor = stats.spearmanr(engineeredFrameDroppedDate, nan_policy='omit')\n",
    "\n",
    "fig, ax = plt.subplots(figsize=(12,12))\n",
    "im = ax.imshow(spearmancor.statistic)\n",
    "ax.set_xticks(np.arange(len(unique_variables)), labels=unique_variables)\n",
    "ax.set_yticks(np.arange(len(unique_variables)), labels=unique_variables)\n",
    "plt.setp(ax.get_xticklabels(), rotation=-90)\n",
    "\n",
    "for i in range(len(unique_variables)):\n",
    "    for j in range(len(unique_variables)):\n",
    "        text = ax.text(j, i, round(spearmancor.statistic[i,j], 2), ha=\"center\", va=\"center\", color=\"w\")\n",
    "plt.show()\n",
    "\n"
   ]
  },
  {
   "cell_type": "code",
   "execution_count": null,
   "metadata": {},
   "outputs": [],
   "source": []
  },
  {
   "cell_type": "code",
   "execution_count": null,
   "metadata": {},
   "outputs": [],
   "source": [
    "fig, ax = plt.subplots(figsize=(20, 8))\n",
    "\n",
    "x = pd.date_range(engineeredFrame[\"date\"].min(), engineeredFrame[\"date\"].max())\n",
    "varu = \"mood\"\n",
    "\n",
    "for uid in engineeredFrame[\"id\"].unique():\n",
    "    vals =  engineeredFrame[engineeredFrame[\"id\"]==uid][varu].map(np.nan_to_num).to_numpy()\n",
    "    y = np.zeros(len(x))\n",
    "    y = y[]\n",
    "    \n",
    "    ax.plot(x, engineeredFrame[engineeredFrame[\"id\"]==uid][varu], label=uid)\n",
    "\n",
    "ax.set_title(\"Mood over dates for all individuals\")\n",
    "ax.set_ylabel(\"Mood level\")\n",
    "ax.set_ylim(0, 10)\n",
    "\n",
    "ax.set_xlabel(\"Dates\")\n",
    "plt.setp(ax.get_xticklabels(), rotation=90)\n",
    "ax.legend(loc=\"upper left\", ncol=4)\n",
    "\n",
    "\n",
    "\n",
    "\n",
    "\n"
   ]
  },
  {
   "cell_type": "code",
   "execution_count": null,
   "metadata": {},
   "outputs": [],
   "source": [
    "idGroupFrame = dataset.groupby(by=\"id\")\n",
    "#print(idGroupFrame.head(1))\n",
    "\n",
    "durationDays = idGroupFrame[\"date\"].max() - idGroupFrame[\"date\"].min()\n",
    "durationDays = durationDays.apply(lambda x: x.days+1)\n",
    "#print(durationDays.head(2))\n",
    "\n",
    "\n",
    "countDays = idGroupFrame[\"date\"].nunique()\n",
    "#print(countDays.head(2))\n",
    "\n",
    "x = np.arange(durationDays.count())\n",
    "width = 0.5\n",
    "\n",
    "fig, ax = plt.subplots(layout=\"constrained\", figsize=(7.5, 4))\n",
    "\n",
    "ax.bar(x - width/2, durationDays, width, label=\"Duration\")\n",
    "ax.bar(x + width/2, countDays, width, label = \"Unique days\")\n",
    "\n",
    "ax.set_title(\"Time between start and end date of research\")\n",
    "ax.set_ylabel(\"Days\")\n",
    "ax.set_ylim(0, 110)\n",
    "ax.set_xticks(x, durationDays.index)\n",
    "ax.set_xlabel(\"ID's\")\n",
    "plt.setp(ax.get_xticklabels(), rotation=90)\n",
    "ax.legend(loc=\"upper left\", ncol=2)\n",
    "\n",
    "plt.show()\n"
   ]
  },
  {
   "cell_type": "code",
   "execution_count": null,
   "metadata": {},
   "outputs": [],
   "source": [
    "idMoodFrame = dataset[dataset[\"variable\"]==\"mood\"].drop([\"time\",\"date\"],axis=1)\n",
    "idMoodFrame\n",
    "\n",
    "x = np.arange(10)\n",
    "\n",
    "fig, ax = plt.subplots(figsize=(10,6))\n",
    "\n",
    "for id in idMoodFrame[\"id\"].unique():\n",
    "    ax.hist(idMoodFrame[idMoodFrame[\"id\"]==id][\"value\"], histtype=\"step\", label=id, bins=10)\n",
    "\n",
    "ax.set_xlim(1,10)\n",
    "ax.legend()\n",
    "plt.show()\n",
    "\n",
    "\n"
   ]
  }
 ],
 "metadata": {
  "kernelspec": {
   "display_name": "Python 3 (ipykernel)",
   "language": "python",
   "name": "python3"
  },
  "language_info": {
   "codemirror_mode": {
    "name": "ipython",
    "version": 3
   },
   "file_extension": ".py",
   "mimetype": "text/x-python",
   "name": "python",
   "nbconvert_exporter": "python",
   "pygments_lexer": "ipython3",
   "version": "3.10.12"
  }
 },
 "nbformat": 4,
 "nbformat_minor": 4
}
