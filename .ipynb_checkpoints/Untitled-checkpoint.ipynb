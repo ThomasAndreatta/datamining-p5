{
 "cells": [
  {
   "cell_type": "markdown",
   "id": "616b56ce-8cd8-41e0-8905-f3923112fe54",
   "metadata": {},
   "source": [
    "# Training set and testing set creation"
   ]
  },
  {
   "cell_type": "code",
   "execution_count": 2,
   "id": "bb05fd23-3995-48c5-a6c1-a6877488a2cd",
   "metadata": {},
   "outputs": [
    {
     "name": "stderr",
     "output_type": "stream",
     "text": [
      "/usr/lib/python3/dist-packages/scipy/__init__.py:146: UserWarning: A NumPy version >=1.17.3 and <1.25.0 is required for this version of SciPy (detected version 1.26.4\n",
      "  warnings.warn(f\"A NumPy version >={np_minversion} and <{np_maxversion}\"\n"
     ]
    },
    {
     "name": "stdout",
     "output_type": "stream",
     "text": [
      "Train dataset saved as 'train_dataset.csv'\n",
      "Test dataset saved as 'test_dataset.csv'\n"
     ]
    }
   ],
   "source": [
    "import pandas as pd\n",
    "from sklearn.model_selection import train_test_split\n",
    "\n",
    "# Load the CSV file into a DataFrame\n",
    "df = pd.read_csv('./dataset/feature_engineering.csv')\n",
    "\n",
    "# Split the data into training and testing sets (80% train, 20% test)\n",
    "train_data, test_data = train_test_split(df, test_size=0.2, random_state=42)\n",
    "\n",
    "# Save the training and testing datasets to separate CSV files\n",
    "train_data.to_csv('./dataset/train_dataset.csv', index=False)\n",
    "test_data.to_csv('./dataset/test_dataset.csv', index=False)\n",
    "\n",
    "print(\"Train dataset saved as 'train_dataset.csv'\")\n",
    "print(\"Test dataset saved as 'test_dataset.csv'\")\n"
   ]
  },
  {
   "cell_type": "code",
   "execution_count": null,
   "id": "b9c38fe3-f31e-4999-bebb-874044789e4e",
   "metadata": {},
   "outputs": [],
   "source": []
  }
 ],
 "metadata": {
  "kernelspec": {
   "display_name": "Python 3 (ipykernel)",
   "language": "python",
   "name": "python3"
  },
  "language_info": {
   "codemirror_mode": {
    "name": "ipython",
    "version": 3
   },
   "file_extension": ".py",
   "mimetype": "text/x-python",
   "name": "python",
   "nbconvert_exporter": "python",
   "pygments_lexer": "ipython3",
   "version": "3.10.12"
  }
 },
 "nbformat": 4,
 "nbformat_minor": 5
}
